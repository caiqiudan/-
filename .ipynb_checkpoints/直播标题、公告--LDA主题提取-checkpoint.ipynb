{
 "cells": [
  {
   "cell_type": "code",
   "execution_count": 5,
   "metadata": {},
   "outputs": [],
   "source": [
    "import pandas as pd\n",
    "import matplotlib.pyplot as plt\n",
    "\n",
    "%config InlineBackend.figure_format = 'retina' # 设置图片清晰度\n",
    "plt.rcParams['font.sans-serif'] = ['Simsun']   # 指定默认字体 Simsun为宋体\n",
    "plt.rcParams['axes.unicode_minus'] = False     # 解决保存图像时负号‘-’显示为方块的问题\n",
    "\n",
    "import time, re"
   ]
  },
  {
   "cell_type": "code",
   "execution_count": 2,
   "metadata": {},
   "outputs": [],
   "source": [
    "# pht表：主播id表\n",
    "pht = pd.read_csv('data\\用户id.csv')"
   ]
  },
  {
   "cell_type": "markdown",
   "metadata": {},
   "source": [
    "LDA主题模型  \n",
    "步骤：\n",
    "\n",
    "①去除停用词（使用哈工大停用词表）；\n",
    "\n",
    "②采用jieba分词，其中jieba分词库中加入LOL常用词汇，如英雄昵称、英雄位置；\n",
    "\n",
    "③使用gensim库corpora模块下的Dictionary类，创建字典；\n",
    "\n",
    "②基于构建的字典，将每个直播标题转为词袋模型；\n",
    "\n",
    "③构建并训练LDA模型，根据困惑度和一致性指标选出合适的主题个数"
   ]
  },
  {
   "cell_type": "markdown",
   "metadata": {},
   "source": [
    "#### 直播间标题"
   ]
  },
  {
   "cell_type": "code",
   "execution_count": 6,
   "metadata": {},
   "outputs": [],
   "source": [
    "ht = pd.read_csv(r'data\\4月4日数据.csv')\n",
    "ht.fillna(method='bfill', inplace=True)        # 填充抓取时间的缺失值\n",
    "ht['get_time'] = ht.get_time.map(time.localtime).map(lambda x: time.strftime(\"%Y--%m--%d %H:%M:%S\", x)).astype('datetime64')  # 时间戳转日期格式\n",
    "ht = ht.rename(columns={'uid':'用户id'})        # 重命名列名"
   ]
  },
  {
   "cell_type": "code",
   "execution_count": 7,
   "metadata": {},
   "outputs": [],
   "source": [
    "a = ht.drop_duplicates('用户id')[['用户id','roomName']].rename(columns={'roomName':'直播标题'})\n",
    "pht = pd.merge(pht, a, on='用户id', how='left')"
   ]
  },
  {
   "cell_type": "markdown",
   "metadata": {},
   "source": [
    "对直播标题做LDA聚类，得到聚类后的主题"
   ]
  },
  {
   "cell_type": "code",
   "execution_count": 14,
   "metadata": {},
   "outputs": [],
   "source": [
    "with open('data\\热门英雄字典.txt', 'r') as f:\n",
    "    英雄字典 = f.read()\n",
    "英雄 = eval(英雄字典).keys()     # 英雄名称列表"
   ]
  },
  {
   "cell_type": "code",
   "execution_count": 15,
   "metadata": {},
   "outputs": [],
   "source": [
    "import jieba, re\n",
    "from gensim import corpora, models  # models.LdaModel LDA模型\n",
    "from collections import defaultdict\n",
    "\n",
    "# 添加jieba分词，不希望被分开的词\n",
    "jieba_add_word = ['粉丝群', 'B站', 'BC勿扰', '周一', '周二', '周三', '周四', '周五', '周六', '周日','一点','0点', '1点', '2点', '3点', '4点', '5点', '6点', '7点', '8点', '9点', '10点', '11点', '12点', '13点', '14点', '15点', '16点', '17点', '18点', '19点', '20点', '21点', '22点', '23点', '24点',\n",
    "             '大号','乱杀','秒人流','五杀','上单','辅助','打野','ADC','中单','下路','国服第一','第一','AD','人美','声甜','一起玩','可爱','万场','千场','灵活排位','双排','单双排','峡谷之巅','豹女','颜值','新人','新主播','黑色玫瑰','艾欧尼亚','一区','网一','有车位','欢迎来到','的直播间','内战','上分','帮打',\n",
    "             '一颗小虎牙','哥哥','上号','猫咪','一打五']  \n",
    "for i in jieba_add_word:\n",
    "    jieba.add_word(i)\n",
    "\n",
    "# 添加英雄词\n",
    "for i in 英雄:\n",
    "    jieba.add_word(i)\n",
    "\n",
    "# 要删除的jieba分词，比如\"玩吧\"会使\"一起玩吧\"变成\"一起\"和\"玩吧\"，而\"一起玩\"更具有代表性和普遍性。\n",
    "jieba_del_word = ['之上','玩吧']\n",
    "for j in jieba_del_word:\n",
    "    jieba.del_word(j)"
   ]
  },
  {
   "cell_type": "markdown",
   "metadata": {
    "heading_collapsed": true
   },
   "source": [
    "##### **第一步，生成嵌套列表。**  \n",
    "嵌套列表，即一个文档/直播间标题是一个列表（分词、去停用词后），如果有多个文档/直播间标题，则需要将多个列表组合起来形成一个嵌套列表。"
   ]
  },
  {
   "cell_type": "code",
   "execution_count": 16,
   "metadata": {
    "hidden": true
   },
   "outputs": [],
   "source": [
    "# 建立去除停用词的正则表达式\n",
    "# 自己加入的停用词\n",
    "r = '[a-zA-Z0-9!\"#$%&\\'·丨『』☆()（）*+,-./:：;<=>?@，。?★、…【】《》？“”‘！[\\\\]^_`{|}~\\s]+|、|丶|我|是|你|的|就|一个|呀|鸭|丫|吖|想|了|吧|吗|嘛|不|群|便|啊|哈|哦|啦|灬|局|' \n",
    "\n",
    "# 哈工大停用词\n",
    "with open('data\\哈工大停用词表.txt', 'r', encoding='utf-8') as f:\n",
    "    Stop = f.read()\n",
    "r_stop = re.sub('\\n', '|', Stop)[955:]\n",
    "\n",
    "# 用两种停用词来建立正则表达式\n",
    "r = r + r_stop"
   ]
  },
  {
   "cell_type": "code",
   "execution_count": 19,
   "metadata": {
    "hidden": true
   },
   "outputs": [
    {
     "data": {
      "text/plain": [
       "[['打', '大号', '维护'],\n",
       " ['韩服', '乱杀', '职业', '选手'],\n",
       " ['三项', '爷青回', '赵信', '发财', '老枪', '笑'],\n",
       " ['中路', '杀神', '血洗', '峡谷', '秒人流', '卡牌', '蒸发'],\n",
       " ['第一', '男枪', '张嘉', '文教', '闭眼', '一打五']]"
      ]
     },
     "execution_count": 19,
     "metadata": {},
     "output_type": "execute_result"
    }
   ],
   "source": [
    "# 嵌套列表\n",
    "直播标题词袋 = pht.直播标题.apply(lambda x: re.sub(r,'', x)).map(jieba.cut).map(list).to_list()\n",
    "pht['直播标题词袋'] = 直播标题词袋\n",
    "\n",
    "直播标题词袋[:5]          # 查看嵌套列表"
   ]
  },
  {
   "cell_type": "markdown",
   "metadata": {
    "heading_collapsed": true
   },
   "source": [
    "##### **第二步：构建字典——dictionary**  \n",
    "构建字典的目的主要是生成一个词袋，里面的词来自于文档，并且没有重复的词。\n",
    "[gensim corpora的简单使用](https://blog.csdn.net/Yolen_Chan/article/details/84934928)"
   ]
  },
  {
   "cell_type": "code",
   "execution_count": 21,
   "metadata": {
    "hidden": true
   },
   "outputs": [
    {
     "name": "stdout",
     "output_type": "stream",
     "text": [
      "Dictionary(8570 unique tokens: ['大号', '打', '维护', '乱杀', '职业']...)\n"
     ]
    }
   ],
   "source": [
    "dictionary = corpora.Dictionary(直播标题词袋)     # 生成词频字典 {词：频率}\n",
    "\n",
    "dictionary.dfs         # 返回字典：{单词id：在多少文档中出现}\n",
    "# 输出：{1: 64, 3: 5, 0: 216, 2: 162, 5: 62, 6: 18, 4: 44, 8: 31, 7: 26,...}\n",
    "dictionary.token2id;   # 返回字典：{单词：id}  id也即独一无二的编号\n",
    "# 输出：{'号': 0, '大': 1, '局': 2, '维护': 3, '乱': 4, '杀': 5, '职业': 6,...}\n",
    "print(dictionary)"
   ]
  },
  {
   "cell_type": "markdown",
   "metadata": {
    "hidden": true
   },
   "source": [
    "可见，由嵌套列表生成的字典共有8570个唯一的词。"
   ]
  },
  {
   "cell_type": "code",
   "execution_count": 24,
   "metadata": {
    "hidden": true
   },
   "outputs": [],
   "source": [
    "# 手动去除一些没有实际意义词(单个字的词)，弥补停用词不全面的缺点\n",
    "bad_ids = []\n",
    "for key,value in dictionary.token2id.items():\n",
    "    if len(key)==1:    # 如果词为单个字，那么将其id存放到bad_ids列表中\n",
    "        bad_ids.append(value)\n",
    "\n",
    "dictionary.filter_tokens(bad_ids=bad_ids)   # 去除bad_ids列表中的词id\n",
    "dictionary.compactify()    # 去除了单个字的词之后，重新对单词id进行排序。"
   ]
  },
  {
   "cell_type": "markdown",
   "metadata": {
    "heading_collapsed": true
   },
   "source": [
    "##### **第三步：构建语料库——corpus（词袋模型 BOW--bag of words）**"
   ]
  },
  {
   "cell_type": "markdown",
   "metadata": {
    "hidden": true
   },
   "source": [
    "> 什么是语料库：  \n",
    "词袋形象地解释便是：将文本中的词放入一个袋子里，在袋子中，词拥有两个属性编号和数目（id，num）。一个词袋对应一篇文档。由元组（单词id,出现次数num)构成的 [(0, 1), (1, 2), (2, 1)] 则称作稀疏向量。一般语料库都是用这种方式来表示。"
   ]
  },
  {
   "cell_type": "code",
   "execution_count": 25,
   "metadata": {
    "hidden": true
   },
   "outputs": [
    {
     "data": {
      "text/plain": [
       "[[(0, 1), (1, 1)],\n",
       " [(2, 1), (3, 1), (4, 1), (5, 1)],\n",
       " [(6, 1), (7, 1), (8, 1), (9, 1), (10, 1)]]"
      ]
     },
     "execution_count": 25,
     "metadata": {},
     "output_type": "execute_result"
    }
   ],
   "source": [
    "corpus = [dictionary.doc2bow(text) for text in 直播间标题词袋]  # 生成语料库\n",
    "\n",
    "corpus[:3]              # 查看语料库"
   ]
  },
  {
   "cell_type": "markdown",
   "metadata": {
    "hidden": true
   },
   "source": [
    "以第一个子列表为例，(0,1)表示的是，id为0的单词在第一篇文档/直播间标题出现次数是1；(1,1)表示的是id为1的单词在第一篇文档/直播间标题出现次数是1以此类推。"
   ]
  },
  {
   "cell_type": "markdown",
   "metadata": {
    "heading_collapsed": true
   },
   "source": [
    "##### **第四步：训练LDA模型**  "
   ]
  },
  {
   "cell_type": "code",
   "execution_count": 26,
   "metadata": {
    "hidden": true
   },
   "outputs": [],
   "source": [
    "# LDA模型的训练\n",
    "# corpus：语料库\n",
    "# iterations：最大迭代次数\n",
    "num_topics = 3        # 设置主题个数\n",
    "lda = models.LdaModel(corpus=corpus, id2word=dictionary, num_topics=num_topics,\n",
    "        iterations=500, random_state=123)"
   ]
  },
  {
   "cell_type": "markdown",
   "metadata": {},
   "source": [
    "##### **第五步：选择合适的主题个数** \n",
    "[lda主题模型困惑度_主题模型（三）：LDA主题个数选择](https://blog.csdn.net/weixin_39676021/article/details/112187210)"
   ]
  },
  {
   "cell_type": "markdown",
   "metadata": {},
   "source": [
    "计算每个模型的困惑度，根据困惑度的实验结果，在合理的范围内进行一致性实验。最后得出效果最好主题个数。  \n",
    "> 主题数越多，困惑度越低，但会出现过拟合的情况，故需要一致性指标辅助判断"
   ]
  },
  {
   "cell_type": "code",
   "execution_count": 28,
   "metadata": {},
   "outputs": [],
   "source": [
    "# 保存2-15个主题数的lda模型，迭代次数为500\n",
    "for num_topic in range(2, 16):\n",
    "    lda = models.LdaModel(corpus=corpus, id2word=dictionary, num_topics=num_topic,\n",
    "        iterations=500)\n",
    "    lda.save('lda_model_直播标题\\lda_topic%s.model'%num_topic)"
   ]
  },
  {
   "cell_type": "markdown",
   "metadata": {
    "heading_collapsed": true
   },
   "source": [
    "###### 5.1 困惑度确定主题数范围"
   ]
  },
  {
   "cell_type": "code",
   "execution_count": 31,
   "metadata": {
    "hidden": true
   },
   "outputs": [],
   "source": [
    "def perplexity_visible_model(model_path, topic_range=range(2,16)):\n",
    "    '''\n",
    "    获取不同主题下的困惑度，并绘制折线图\n",
    "    parameters:\n",
    "        topic_range: list, eg: range(2,16) 训练2-15各主题的lda\n",
    "        model_path: 模型储存在哪个路径文件夹下\n",
    "    return：\n",
    "        perplexity: list, 每个主题对应的困惑度\n",
    "    '''\n",
    "    perplexity_list = []      # 用于存放困惑度\n",
    "    for num_topic in topic_range:\n",
    "        # 训练lda模型\n",
    "        lda = models.LdaModel.load(f'{model_path}\\lda_topic{num_topic}.model')\n",
    "        # 计算困惑度\n",
    "        perplexity = lda.log_perplexity(corpus)\n",
    "        perplexity_list.append(perplexity)\n",
    "\n",
    "    plt.plot(topic_range, perplexity_list)\n",
    "    plt.xlabel('num topics')\n",
    "    plt.ylabel('perplexity score')\n",
    "    plt.legend(('perplexity_values'), loc='best')\n",
    "    \n",
    "    return perplexity_list"
   ]
  },
  {
   "cell_type": "code",
   "execution_count": 32,
   "metadata": {
    "hidden": true
   },
   "outputs": [
    {
     "data": {
      "image/png": "[encoded data removed]",
      "text/plain": [
       "<Figure size 432x288 with 1 Axes>"
      ]
     },
     "metadata": {
      "image/png": {
       "height": 259,
       "width": 393
      },
      "needs_background": "light"
     },
     "output_type": "display_data"
    }
   ],
   "source": [
    "perlexity_list = perplexity_visible_model(topic_range=range(2, 16), model_path='lda_model_直播标题')"
   ]
  },
  {
   "cell_type": "markdown",
   "metadata": {
    "hidden": true
   },
   "source": [
    "由上图发现，当主题个数超过5\n",
    "时，模型的困惑度就会急剧下降。故初步将主题数定在1-5之间。"
   ]
  },
  {
   "cell_type": "markdown",
   "metadata": {
    "heading_collapsed": true
   },
   "source": [
    "###### 5.2 绘制主题数和一致性的变化"
   ]
  },
  {
   "cell_type": "code",
   "execution_count": 77,
   "metadata": {
    "hidden": true
   },
   "outputs": [],
   "source": [
    "def coherence_visible_model(model_path, topic_range=range(2,16)):\n",
    "    '''\n",
    "    计算不同主题个数下的一致性，并绘制折线图\n",
    "    parameters：\n",
    "        topic_range：list, eg: range(2,15) 主题数范围为2-15\n",
    "        model_path：存放lda模型的文件夹的路径\n",
    "    return:\n",
    "        coherence_list：每个主题对应的一致性\n",
    "    '''\n",
    "    coherence_list = []      # 存放困惑度\n",
    "    \n",
    "    for num_topic in topic_range:\n",
    "        lda = models.LdaModel.load(f'{model_path}\\lda_topic{num_topic}.model')\n",
    "        # 计算一致性\n",
    "        cm = models.CoherenceModel(model=lda, corpus=corpus, dictionary=dictionary, coherence='u_mass')\n",
    "        coherence = cm.get_coherence()\n",
    "        coherence_list.append(coherence)\n",
    "        \n",
    "    plt.plot(topic_range, coherence_list)\n",
    "    plt.xlabel('num topics')\n",
    "    plt.ylabel('coherence score')\n",
    "    plt.legend(('coherence_values'), loc='best')\n",
    "    \n",
    "    return coherence_list"
   ]
  },
  {
   "cell_type": "code",
   "execution_count": 34,
   "metadata": {
    "hidden": true
   },
   "outputs": [
    {
     "data": {
      "image/png": "[encoded data removed]",
      "text/plain": [
       "<Figure size 432x288 with 1 Axes>"
      ]
     },
     "metadata": {
      "image/png": {
       "height": 259,
       "width": 383
      },
      "needs_background": "light"
     },
     "output_type": "display_data"
    }
   ],
   "source": [
    "coherence_list = coherence_visible_model(topic_range=range(2, 16), model_path='lda_model_直播标题')"
   ]
  },
  {
   "cell_type": "markdown",
   "metadata": {
    "hidden": true
   },
   "source": [
    "可见当主题数为2时，模型评分最高。  \n",
    "当主题数为4、5时，主题4和主题5的样本数过少，所以不宜分为4、5类。"
   ]
  },
  {
   "cell_type": "markdown",
   "metadata": {
    "heading_collapsed": true
   },
   "source": [
    "###### 5.3 可视化模型"
   ]
  },
  {
   "cell_type": "code",
   "execution_count": null,
   "metadata": {
    "hidden": true
   },
   "outputs": [],
   "source": [
    "import pyLDAvis.gensim"
   ]
  },
  {
   "cell_type": "code",
   "execution_count": null,
   "metadata": {
    "hidden": true
   },
   "outputs": [],
   "source": [
    "num_topic = 2\n",
    "lda = models.ldamodel.LdaModel.load('lda_model_直播标题\\lda_topic%s.model'%num_topic)\n",
    "vis_data = pyLDAvis.gensim.prepare(lda, corpus, dictionary)\n",
    "pyLDAvis.show(vis_data, open_browser=False)"
   ]
  },
  {
   "cell_type": "markdown",
   "metadata": {},
   "source": [
    "##### **第六步：查看各主题的主题词**"
   ]
  },
  {
   "cell_type": "code",
   "execution_count": 42,
   "metadata": {},
   "outputs": [
    {
     "data": {
      "text/html": [
       "<div>\n",
       "<style scoped>\n",
       "    .dataframe tbody tr th:only-of-type {\n",
       "        vertical-align: middle;\n",
       "    }\n",
       "\n",
       "    .dataframe tbody tr th {\n",
       "        vertical-align: top;\n",
       "    }\n",
       "\n",
       "    .dataframe thead th {\n",
       "        text-align: right;\n",
       "    }\n",
       "</style>\n",
       "<table border=\"1\" class=\"dataframe\">\n",
       "  <thead>\n",
       "    <tr style=\"text-align: right;\">\n",
       "      <th></th>\n",
       "      <th>0</th>\n",
       "      <th>1</th>\n",
       "      <th>2</th>\n",
       "      <th>3</th>\n",
       "      <th>4</th>\n",
       "      <th>5</th>\n",
       "      <th>6</th>\n",
       "      <th>7</th>\n",
       "      <th>8</th>\n",
       "      <th>9</th>\n",
       "      <th>10</th>\n",
       "      <th>11</th>\n",
       "      <th>12</th>\n",
       "      <th>13</th>\n",
       "      <th>14</th>\n",
       "      <th>15</th>\n",
       "      <th>16</th>\n",
       "      <th>17</th>\n",
       "      <th>18</th>\n",
       "      <th>19</th>\n",
       "    </tr>\n",
       "  </thead>\n",
       "  <tbody>\n",
       "    <tr>\n",
       "      <td>0</td>\n",
       "      <td>直播间</td>\n",
       "      <td>欢迎来到</td>\n",
       "      <td>一颗小虎牙</td>\n",
       "      <td>上分</td>\n",
       "      <td>虎牙</td>\n",
       "      <td>克隆</td>\n",
       "      <td>快乐</td>\n",
       "      <td>英雄</td>\n",
       "      <td>今天</td>\n",
       "      <td>白银</td>\n",
       "      <td>联盟</td>\n",
       "      <td>日常</td>\n",
       "      <td>云顶</td>\n",
       "      <td>德玛</td>\n",
       "      <td>教学</td>\n",
       "      <td>西亚</td>\n",
       "      <td>一只</td>\n",
       "      <td>开心</td>\n",
       "      <td>艾克</td>\n",
       "      <td>双人</td>\n",
       "    </tr>\n",
       "    <tr>\n",
       "      <td>1</td>\n",
       "      <td>一起玩</td>\n",
       "      <td>黑色玫瑰</td>\n",
       "      <td>上车</td>\n",
       "      <td>王者</td>\n",
       "      <td>订阅</td>\n",
       "      <td>黑色</td>\n",
       "      <td>艾欧尼亚</td>\n",
       "      <td>峡谷</td>\n",
       "      <td>车位</td>\n",
       "      <td>教学</td>\n",
       "      <td>大乱斗</td>\n",
       "      <td>娱乐</td>\n",
       "      <td>直播</td>\n",
       "      <td>一区</td>\n",
       "      <td>灵活</td>\n",
       "      <td>钻石</td>\n",
       "      <td>黄金</td>\n",
       "      <td>主播</td>\n",
       "      <td>排位</td>\n",
       "      <td>上单</td>\n",
       "    </tr>\n",
       "  </tbody>\n",
       "</table>\n",
       "</div>"
      ],
      "text/plain": [
       "     0     1      2   3   4   5     6   7   8   9   10  11  12  13  14  15  \\\n",
       "0  直播间  欢迎来到  一颗小虎牙  上分  虎牙  克隆    快乐  英雄  今天  白银   联盟  日常  云顶  德玛  教学  西亚   \n",
       "1  一起玩  黑色玫瑰     上车  王者  订阅  黑色  艾欧尼亚  峡谷  车位  教学  大乱斗  娱乐  直播  一区  灵活  钻石   \n",
       "\n",
       "   16  17  18  19  \n",
       "0  一只  开心  艾克  双人  \n",
       "1  黄金  主播  排位  上单  "
      ]
     },
     "execution_count": 42,
     "metadata": {},
     "output_type": "execute_result"
    }
   ],
   "source": [
    "num_topic = 2\n",
    "lda = models.LdaModel.load('lda_model_直播标题\\lda_topic%s.model'%num_topic)  # 读取提前存储的模型\n",
    "\n",
    "# lda.print_topics(num_words)：获取每个主题前`num_words`个重要的单词\n",
    "topic_list = lda.print_topics(num_words=20)\n",
    "'''\n",
    "topic_list：\n",
    "[(0, '0.030*\"玩\" + 0.029*\"黑色\" + 0.024*\"虎牙\" + 0.020*\"玫瑰\" + 0.015*\"颗\" + 0.009*\"尼亚\" + 0.009*\"艾欧\" + 0.009*\"上车\" + 0.009*\"灵活\" + 0.009*\"订阅\"'),\n",
    " (1, '0.016*\"峡谷\" + 0.008*\"区\" + 0.008*\"人\" + 0.008*\"钻石\" + 0.006*\"专场\" + 0.006*\"福星\" + 0.006*\"娱乐\" + 0.005*\"网\" + 0.005*\"局\" + 0.005*\"上\"'),\n",
    " (2, '0.009*\"号\" + 0.009*\"快乐\" + 0.008*\"免费\" + 0.008*\"好\" + 0.008*\"玩玩\" + 0.008*\"上分\" + 0.007*\"分\" + 0.007*\"教学\" + 0.007*\"上\" + 0.007*\"吃\"')]\n",
    "''';\n",
    "# 整理成dataframe结构，方便查看\n",
    "pd.DataFrame([re.findall('\"(.*?)\"', t[1]) for t in topic_list])\n",
    "# 技术型\n",
    "# 娱乐型、新人型"
   ]
  },
  {
   "cell_type": "markdown",
   "metadata": {
    "heading_collapsed": true
   },
   "source": [
    "##### **第七步：打印出dataframe中各个直播间标题所属主题的概率。**  \n",
    "（需要先将文档转为词袋形式[(id,num)...]，再用lda模型预测）"
   ]
  },
  {
   "cell_type": "code",
   "execution_count": 37,
   "metadata": {
    "hidden": true
   },
   "outputs": [
    {
     "data": {
      "text/plain": [
       "0     [(0, 0.19191918), (1, 0.80808085)]\n",
       "1    [(0, 0.100790784), (1, 0.89920926)]\n",
       "2      [(0, 0.14028782), (1, 0.8597121)]\n",
       "Name: 直播标题词袋, dtype: object"
      ]
     },
     "execution_count": 37,
     "metadata": {},
     "output_type": "execute_result"
    }
   ],
   "source": [
    "# 提取出每个直播间标题在每个主题上的概率\n",
    "lda_result = pht.直播标题词袋.apply(lambda x: lda.get_document_topics(dictionary.doc2bow(x)))\n",
    "lda_result[:3]     # 主题0——概率0.8， 主题1——概率0.08，主题2——概率0.08"
   ]
  },
  {
   "cell_type": "code",
   "execution_count": 38,
   "metadata": {
    "hidden": true
   },
   "outputs": [
    {
     "data": {
      "text/html": [
       "<div>\n",
       "<style scoped>\n",
       "    .dataframe tbody tr th:only-of-type {\n",
       "        vertical-align: middle;\n",
       "    }\n",
       "\n",
       "    .dataframe tbody tr th {\n",
       "        vertical-align: top;\n",
       "    }\n",
       "\n",
       "    .dataframe thead th {\n",
       "        text-align: right;\n",
       "    }\n",
       "</style>\n",
       "<table border=\"1\" class=\"dataframe\">\n",
       "  <thead>\n",
       "    <tr style=\"text-align: right;\">\n",
       "      <th></th>\n",
       "      <th>用户id</th>\n",
       "      <th>直播标题</th>\n",
       "      <th>直播标题词袋</th>\n",
       "      <th>直播Topic1</th>\n",
       "      <th>直播Topic2</th>\n",
       "    </tr>\n",
       "  </thead>\n",
       "  <tbody>\n",
       "    <tr>\n",
       "      <td>0</td>\n",
       "      <td>1820796294</td>\n",
       "      <td>打把大号维护局！</td>\n",
       "      <td>[打, 大号, 维护]</td>\n",
       "      <td>0.191919</td>\n",
       "      <td>0.808081</td>\n",
       "    </tr>\n",
       "    <tr>\n",
       "      <td>1</td>\n",
       "      <td>2183525275</td>\n",
       "      <td>韩服乱杀职业选手</td>\n",
       "      <td>[韩服, 乱杀, 职业, 选手]</td>\n",
       "      <td>0.100791</td>\n",
       "      <td>0.899209</td>\n",
       "    </tr>\n",
       "  </tbody>\n",
       "</table>\n",
       "</div>"
      ],
      "text/plain": [
       "         用户id      直播标题            直播标题词袋  直播Topic1  直播Topic2\n",
       "0  1820796294  打把大号维护局！       [打, 大号, 维护]  0.191919  0.808081\n",
       "1  2183525275  韩服乱杀职业选手  [韩服, 乱杀, 职业, 选手]  0.100791  0.899209"
      ]
     },
     "execution_count": 38,
     "metadata": {},
     "output_type": "execute_result"
    }
   ],
   "source": [
    "# 将Series转化为[{}, {}, ...{}]格式，以便转为dataframe格式——Topics，然后与pht表合并\n",
    "lda_result_data = lda_result.map(dict).to_list()\n",
    "\n",
    "Topics = pd.DataFrame(lda_result_data)\n",
    "Topics.columns = ['直播Topic%s'%i for i in range(1, num_topic+1)]\n",
    "pht = pd.concat((pht, Topics), axis=1, join='inner')\n",
    "pht.head(2)"
   ]
  },
  {
   "cell_type": "code",
   "execution_count": 39,
   "metadata": {
    "hidden": true
   },
   "outputs": [
    {
     "name": "stderr",
     "output_type": "stream",
     "text": [
      "D:\\software\\Anaconda3\\lib\\site-packages\\ipykernel_launcher.py:2: FutureWarning: \n",
      "The current behaviour of 'Series.argmax' is deprecated, use 'idxmax'\n",
      "instead.\n",
      "The behavior of 'argmax' will be corrected to return the positional\n",
      "maximum in the future. For now, use 'series.values.argmax' or\n",
      "'np.argmax(np.array(values))' to get the position of the maximum\n",
      "row.\n",
      "  \n"
     ]
    },
    {
     "data": {
      "text/plain": [
       "2    5765\n",
       "1    5196\n",
       "Name: 直播标题主题, dtype: int64"
      ]
     },
     "execution_count": 39,
     "metadata": {},
     "output_type": "execute_result"
    }
   ],
   "source": [
    "# pht['Topic']   直播间标题的主题\n",
    "pht['直播标题主题'] = pht[['直播Topic%s'%i for i in range(1, num_topic+1)]].apply(lambda x: x.argmax()[-1], axis=1)\n",
    "pht['直播标题主题概率'] = pht[['直播Topic%s'%i for i in range(1, num_topic+1)]].max(axis=1)\n",
    "pht.直播标题主题.value_counts()"
   ]
  },
  {
   "cell_type": "code",
   "execution_count": 40,
   "metadata": {
    "hidden": true
   },
   "outputs": [
    {
     "name": "stdout",
     "output_type": "stream",
     "text": [
      "——————Topic1——————\n"
     ]
    },
    {
     "data": {
      "text/plain": [
       "10754    欢迎来到【丐帮】狗彻家的瓜娃籽籽籽籽籽籽籽籽籽籽的直播间\n",
       "10725                欢迎来到晚风吹起鬓间白发的直播间\n",
       "6260              欢迎来到时代-天际-雾散真可爱的直播间\n",
       "9924             逃离塔科夫离线版，送修改数据，可帮安装！\n",
       "4703                欢迎来到一位失去斗志的网友的直播间\n",
       "10177              欢迎来到放肆的青春诠释了悲伤的直播间\n",
       "3082                 欢迎来到森少讲解小米晓峰的直播间\n",
       "10638                  阳光大男孩，快乐小丑准备作战\n",
       "10347               欢迎来到齐鲁工业大学小王子的直播间\n",
       "10445                 欢迎来到一只野生小男枪的直播间\n",
       "10629              欢迎来到豆沙宝贝汐【酒倒满】的直播间\n",
       "6800                  欢迎来到寻梦-疯狂小龙的直播间\n",
       "7739             不加工会不加工会不加工会不加工会不加工会\n",
       "10635                 欢迎来到仙仙仙仙气飘飘的直播间\n",
       "10946                欢迎来到文家铁骑-潘小帅的直播间\n",
       "10911                欢迎来到热恋中从未听讲过的直播间\n",
       "10837                  欢迎来到什锦香肠炒饭的直播间\n",
       "7492                欢迎来到英雄联盟--天然呆的直播间\n",
       "9388                  欢迎来到揽秀-一只小熊的直播间\n",
       "9232                   欢迎来到岳家虎牙少年的直播间\n",
       "Name: 直播标题, dtype: object"
      ]
     },
     "metadata": {},
     "output_type": "display_data"
    },
    {
     "name": "stdout",
     "output_type": "stream",
     "text": [
      "——————Topic2——————\n"
     ]
    },
    {
     "data": {
      "text/plain": [
       "5888    黑玫瑰温柔粘人小姐姐通宵车排位匹配一起玩\n",
       "1059    萌新解惑，欢迎提问。谢谢 订阅 谢谢陪伴\n",
       "5655    雷瑟守备白金钻石局 你得螳螂人马打野导师\n",
       "5046      水晶之痕 最菜铂金下棋乱斗主播求赐教\n",
       "3817    雷瑟守备大师局奥拉夫三级必单吃不单请举报\n",
       "756     黑色玫瑰白银黄金灵活 关注免费上车来固玩\n",
       "2443    重庆小姐姐 黑色灵活组排有位置 一起玩~\n",
       "5379     黑色灵活排新主播浙江小姐姐有车位一起玩\n",
       "2327    <湖南>黑色玫瑰灵活组排通宵有位置一起玩\n",
       "5738      成都小姐姐电六战争学院车位多多一起玩\n",
       "3857      黑色灵活有位置一起玩，女野王带飞全场\n",
       "1419      帮安排，艾欧尼亚王者国服最强寡妇男刀\n",
       "594      电一艾欧尼亚匹配乱斗灵活代币之路一起玩\n",
       "8127     第一天直播的河北小姐姐，网三上车一起玩\n",
       "5597    黑色玫瑰|新主播声优小姐姐订阅2血瓶上车\n",
       "1533    巨神峰黄金到白金的单子 专业辅助可以上车\n",
       "6354     超甜小姐姐黑色玫瑰 黄金铂金上车一起玩\n",
       "9240    网一钻石局河南妹妹可可爱爱没有脑袋一起玩\n",
       "5378      黑色长沙小姐姐千场安妮在线挨揍一起玩\n",
       "1255     四川少女音新主播，电一黑色有车位一起玩\n",
       "Name: 直播标题, dtype: object"
      ]
     },
     "metadata": {},
     "output_type": "display_data"
    }
   ],
   "source": [
    "a = pht.sort_values('直播标题主题概率', ascending=False)\n",
    "for i in range(1, num_topic+1):\n",
    "    print('——————Topic%s——————'%i)\n",
    "    display(a[a.直播标题主题==str(i)].直播标题.head(20))"
   ]
  },
  {
   "cell_type": "markdown",
   "metadata": {
    "heading_collapsed": true
   },
   "source": [
    "##### **第八步：储存为字典.txt**"
   ]
  },
  {
   "cell_type": "code",
   "execution_count": 47,
   "metadata": {
    "hidden": true
   },
   "outputs": [],
   "source": [
    "# 储存{用户id：直播标题}字典\n",
    "with open('data\\用户id_直播标题字典.txt', 'w') as f:    \n",
    "    title_id = str(pht.set_index('用户id')['直播标题主题'].to_dict())\n",
    "    f.write(title_id)"
   ]
  },
  {
   "cell_type": "markdown",
   "metadata": {},
   "source": [
    "#### 公告主题"
   ]
  },
  {
   "cell_type": "code",
   "execution_count": 51,
   "metadata": {},
   "outputs": [],
   "source": [
    "# 从个人信息.csv导入公告到pht表\n",
    "个人信息表 = pd.read_csv('data\\个人信息.csv')\n",
    "ann_dict = 个人信息表.set_index('用户id')['公告'].to_dict()\n",
    "\n",
    "pht['公告'] = pht.用户id.map(ann_dict)\n",
    "pht.公告.fillna('', inplace=True)     # 填充公告缺失值为空''"
   ]
  },
  {
   "cell_type": "markdown",
   "metadata": {
    "heading_collapsed": true
   },
   "source": [
    "##### 第一步，生成嵌套列表"
   ]
  },
  {
   "cell_type": "code",
   "execution_count": 59,
   "metadata": {
    "hidden": true
   },
   "outputs": [
    {
     "name": "stdout",
     "output_type": "stream",
     "text": [
      "[['直播', '时间', '晚上', '点播', '到', '凌晨', '点'], ['粉丝', '直播', '时间', '晚上', '点点'], ['湖北', '大叔', '主玩', '赵信', '颜值', '高', '身材', '好', '技术', '够', '一杆', '长枪', '战', '峡谷', '一腔热血', '闯', '虎牙', '薇'], ['新浪', '微博', '虎牙', '芜湖', '神', '晚点', '半永鸽', '血洗', '峡谷', '芜湖', '没周', '祝', '大家', '天天开心'], ['直播', '时间', '晚上', '点点']]\n"
     ]
    }
   ],
   "source": [
    "公告词袋 = pht.公告.apply(lambda x: re.sub(r, '', x)).map(jieba.cut).map(list).to_list()\n",
    "pht['公告词袋'] = 公告词袋\n",
    "\n",
    "print(公告词袋[:5])       # 查看嵌套列表"
   ]
  },
  {
   "cell_type": "markdown",
   "metadata": {
    "heading_collapsed": true
   },
   "source": [
    "##### 第二步：构建字典——dictionary"
   ]
  },
  {
   "cell_type": "code",
   "execution_count": 60,
   "metadata": {
    "hidden": true
   },
   "outputs": [
    {
     "name": "stdout",
     "output_type": "stream",
     "text": [
      "Dictionary(10771 unique tokens: ['凌晨', '到', '时间', '晚上', '点']...)\n"
     ]
    }
   ],
   "source": [
    "dictionary = corpora.Dictionary(公告词袋)     # 生成词频字典 {词：频率}\n",
    "\n",
    "print(dictionary)"
   ]
  },
  {
   "cell_type": "code",
   "execution_count": 62,
   "metadata": {
    "hidden": true
   },
   "outputs": [],
   "source": [
    "# 手动去除一些没有实际意义词(单个字的词)，弥补停用词不全面的缺点\n",
    "bad_ids = []\n",
    "for key,value in dictionary.token2id.items():\n",
    "    if len(key)==1:    # 如果词为单个字，那么将其id存放到bad_ids列表中\n",
    "        bad_ids.append(value)\n",
    "dictionary.filter_tokens(bad_ids=bad_ids)   # 去除bad_ids列表中的词id\n",
    "dictionary.compactify()    # 去除了单个字的词之后，重新对单词id进行排序。"
   ]
  },
  {
   "cell_type": "markdown",
   "metadata": {
    "heading_collapsed": true
   },
   "source": [
    "##### 第三步：构建语料库——corpus"
   ]
  },
  {
   "cell_type": "code",
   "execution_count": 63,
   "metadata": {
    "hidden": true
   },
   "outputs": [
    {
     "data": {
      "text/plain": [
       "[[(56, 1), (107, 1)],\n",
       " [(820, 1), (881, 1), (1371, 1), (4841, 1)],\n",
       " [(15, 1), (6104, 1)]]"
      ]
     },
     "execution_count": 63,
     "metadata": {},
     "output_type": "execute_result"
    }
   ],
   "source": [
    "corpus = [dictionary.doc2bow(text) for text in 直播间标题词袋]  # 生成语料库\n",
    "\n",
    "corpus[:3]              # 查看语料库"
   ]
  },
  {
   "cell_type": "markdown",
   "metadata": {
    "heading_collapsed": true
   },
   "source": [
    "##### 第四步：训练LDA模型"
   ]
  },
  {
   "cell_type": "code",
   "execution_count": 90,
   "metadata": {
    "hidden": true
   },
   "outputs": [],
   "source": [
    "# LDA模型的训练\n",
    "num_topics = 3        # 设置主题个数\n",
    "lda = models.LdaModel(corpus=corpus, id2word=dictionary, num_topics=num_topics,\n",
    "        iterations=500, random_state=123)"
   ]
  },
  {
   "cell_type": "markdown",
   "metadata": {},
   "source": [
    "##### 第五步：选择合适的主题个数"
   ]
  },
  {
   "cell_type": "code",
   "execution_count": 67,
   "metadata": {},
   "outputs": [],
   "source": [
    "# 保存2-15个主题数的lda模型，迭代次数为500\n",
    "for num_topic in range(2, 16):\n",
    "    lda = models.LdaModel(corpus=corpus, id2word=dictionary, num_topics=num_topic,\n",
    "        iterations=500)\n",
    "    lda.save('lda_model_公告\\lda_topic%s.model'%num_topic)"
   ]
  },
  {
   "cell_type": "markdown",
   "metadata": {
    "heading_collapsed": true
   },
   "source": [
    "###### 5.1 困惑度确定主题数范围"
   ]
  },
  {
   "cell_type": "code",
   "execution_count": 69,
   "metadata": {
    "hidden": true
   },
   "outputs": [
    {
     "data": {
      "image/png": "[encoded data removed]",
      "text/plain": [
       "<Figure size 432x288 with 1 Axes>"
      ]
     },
     "metadata": {
      "image/png": {
       "height": 259,
       "width": 388
      },
      "needs_background": "light"
     },
     "output_type": "display_data"
    }
   ],
   "source": [
    "perlexity_list = perplexity_visible_model(topic_range=range(2, 16), model_path='lda_model_公告')"
   ]
  },
  {
   "cell_type": "markdown",
   "metadata": {
    "hidden": true
   },
   "source": [
    "由上图发现，当主题个数超过8时，模型的困惑度就会急剧下降。故初步将主题数定在3-5之间。"
   ]
  },
  {
   "cell_type": "markdown",
   "metadata": {
    "heading_collapsed": true
   },
   "source": [
    "###### 5.2 绘制主题数和一致性的变化"
   ]
  },
  {
   "cell_type": "code",
   "execution_count": 78,
   "metadata": {
    "hidden": true
   },
   "outputs": [
    {
     "data": {
      "image/png": "[encoded data removed]",
      "text/plain": [
       "<Figure size 432x288 with 1 Axes>"
      ]
     },
     "metadata": {
      "image/png": {
       "height": 259,
       "width": 383
      },
      "needs_background": "light"
     },
     "output_type": "display_data"
    }
   ],
   "source": [
    "coherence_list = coherence_visible_model(model_path='lda_model_公告', topic_range=range(2, 16))"
   ]
  },
  {
   "cell_type": "markdown",
   "metadata": {
    "hidden": true
   },
   "source": [
    "结合困惑度指标，当主题数为3时，模型评分最高。  "
   ]
  },
  {
   "cell_type": "markdown",
   "metadata": {},
   "source": [
    "###### 5.3 可视化模型"
   ]
  },
  {
   "cell_type": "code",
   "execution_count": 80,
   "metadata": {},
   "outputs": [
    {
     "name": "stderr",
     "output_type": "stream",
     "text": [
      "D:\\software\\Anaconda3\\lib\\site-packages\\pyLDAvis\\_prepare.py:257: FutureWarning: Sorting because non-concatenation axis is not aligned. A future version\n",
      "of pandas will change to not sort by default.\n",
      "\n",
      "To accept the future behavior, pass 'sort=False'.\n",
      "\n",
      "To retain the current behavior and silence the warning, pass 'sort=True'.\n",
      "\n",
      "  return pd.concat([default_term_info] + list(topic_dfs))\n"
     ]
    },
    {
     "name": "stdout",
     "output_type": "stream",
     "text": [
      "\n",
      "Note: if you're in the IPython notebook, pyLDAvis.show() is not the best command\n",
      "      to use. Consider using pyLDAvis.display(), or pyLDAvis.enable_notebook().\n",
      "      See more information at http://pyLDAvis.github.io/quickstart.html .\n",
      "\n",
      "You must interrupt the kernel to end this command\n",
      "\n",
      "Serving to http://127.0.0.1:8889/    [Ctrl-C to exit]\n"
     ]
    },
    {
     "name": "stderr",
     "output_type": "stream",
     "text": [
      "127.0.0.1 - - [07/Oct/2021 22:17:15] \"GET / HTTP/1.1\" 200 -\n",
      "127.0.0.1 - - [07/Oct/2021 22:17:15] \"GET /LDAvis.css HTTP/1.1\" 200 -\n",
      "127.0.0.1 - - [07/Oct/2021 22:17:15] \"GET /d3.js HTTP/1.1\" 200 -\n",
      "127.0.0.1 - - [07/Oct/2021 22:17:15] code 404, message Not Found\n",
      "127.0.0.1 - - [07/Oct/2021 22:17:15] \"GET /favicon.ico HTTP/1.1\" 404 -\n",
      "127.0.0.1 - - [07/Oct/2021 22:17:15] \"GET /LDAvis.js HTTP/1.1\" 200 -\n"
     ]
    },
    {
     "name": "stdout",
     "output_type": "stream",
     "text": [
      "\n",
      "stopping Server...\n"
     ]
    }
   ],
   "source": [
    "import pyLDAvis.gensim\n",
    "\n",
    "num_topic = 3\n",
    "lda = models.ldamodel.LdaModel.load('lda_model_公告\\lda_topic%s.model'%num_topic)\n",
    "vis_data = pyLDAvis.gensim.prepare(lda, corpus, dictionary)\n",
    "pyLDAvis.show(vis_data, open_browser=False)"
   ]
  },
  {
   "cell_type": "markdown",
   "metadata": {},
   "source": [
    "##### **第六步：查看各主题的主题词**"
   ]
  },
  {
   "cell_type": "code",
   "execution_count": 95,
   "metadata": {},
   "outputs": [
    {
     "name": "stderr",
     "output_type": "stream",
     "text": [
      "<>:2: DeprecationWarning: invalid escape sequence \\l\n",
      "<>:2: DeprecationWarning: invalid escape sequence \\l\n",
      "<>:2: DeprecationWarning: invalid escape sequence \\l\n",
      "<ipython-input-95-77d22053611d>:2: DeprecationWarning: invalid escape sequence \\l\n",
      "  lda = models.LdaModel.load('lda_model_公告\\lda_topic%s.model'%num_topic)  # 读取提前存储的模型\n"
     ]
    },
    {
     "data": {
      "text/html": [
       "<div>\n",
       "<style scoped>\n",
       "    .dataframe tbody tr th:only-of-type {\n",
       "        vertical-align: middle;\n",
       "    }\n",
       "\n",
       "    .dataframe tbody tr th {\n",
       "        vertical-align: top;\n",
       "    }\n",
       "\n",
       "    .dataframe thead th {\n",
       "        text-align: right;\n",
       "    }\n",
       "</style>\n",
       "<table border=\"1\" class=\"dataframe\">\n",
       "  <thead>\n",
       "    <tr style=\"text-align: right;\">\n",
       "      <th></th>\n",
       "      <th>0</th>\n",
       "      <th>1</th>\n",
       "      <th>2</th>\n",
       "      <th>3</th>\n",
       "      <th>4</th>\n",
       "      <th>5</th>\n",
       "      <th>6</th>\n",
       "      <th>7</th>\n",
       "      <th>8</th>\n",
       "      <th>9</th>\n",
       "      <th>10</th>\n",
       "      <th>11</th>\n",
       "      <th>12</th>\n",
       "      <th>13</th>\n",
       "      <th>14</th>\n",
       "      <th>15</th>\n",
       "      <th>16</th>\n",
       "      <th>17</th>\n",
       "      <th>18</th>\n",
       "      <th>19</th>\n",
       "    </tr>\n",
       "  </thead>\n",
       "  <tbody>\n",
       "    <tr>\n",
       "      <td>0</td>\n",
       "      <td>直播间</td>\n",
       "      <td>欢迎来到</td>\n",
       "      <td>黑色玫瑰</td>\n",
       "      <td>一起玩</td>\n",
       "      <td>上车</td>\n",
       "      <td>娱乐</td>\n",
       "      <td>快乐</td>\n",
       "      <td>游戏</td>\n",
       "      <td>一起</td>\n",
       "      <td>车位</td>\n",
       "      <td>主播</td>\n",
       "      <td>订阅</td>\n",
       "      <td>小姐姐</td>\n",
       "      <td>上分</td>\n",
       "      <td>新主播</td>\n",
       "      <td>欢迎</td>\n",
       "      <td>免费</td>\n",
       "      <td>妹妹</td>\n",
       "      <td>灵活</td>\n",
       "      <td>无聊</td>\n",
       "    </tr>\n",
       "    <tr>\n",
       "      <td>1</td>\n",
       "      <td>一起玩</td>\n",
       "      <td>王者</td>\n",
       "      <td>峡谷</td>\n",
       "      <td>教学</td>\n",
       "      <td>克隆</td>\n",
       "      <td>一区</td>\n",
       "      <td>黑色</td>\n",
       "      <td>上单</td>\n",
       "      <td>第一</td>\n",
       "      <td>大师</td>\n",
       "      <td>钻石</td>\n",
       "      <td>灵活</td>\n",
       "      <td>专场</td>\n",
       "      <td>英雄</td>\n",
       "      <td>云顶</td>\n",
       "      <td>峡谷之巅</td>\n",
       "      <td>车位</td>\n",
       "      <td>一天</td>\n",
       "      <td>联盟</td>\n",
       "      <td>打野</td>\n",
       "    </tr>\n",
       "    <tr>\n",
       "      <td>2</td>\n",
       "      <td>一颗小虎牙</td>\n",
       "      <td>欢迎来到</td>\n",
       "      <td>上分</td>\n",
       "      <td>大乱斗</td>\n",
       "      <td>黄金</td>\n",
       "      <td>直播间</td>\n",
       "      <td>虎牙</td>\n",
       "      <td>排位</td>\n",
       "      <td>艾欧尼亚</td>\n",
       "      <td>玩玩</td>\n",
       "      <td>订阅</td>\n",
       "      <td>直播</td>\n",
       "      <td>辅助</td>\n",
       "      <td>下饭</td>\n",
       "      <td>白银</td>\n",
       "      <td>福星</td>\n",
       "      <td>单排</td>\n",
       "      <td>今天</td>\n",
       "      <td>免费</td>\n",
       "      <td>铂金</td>\n",
       "    </tr>\n",
       "  </tbody>\n",
       "</table>\n",
       "</div>"
      ],
      "text/plain": [
       "       0     1     2    3   4    5   6   7     8   9  10  11   12  13   14  \\\n",
       "0    直播间  欢迎来到  黑色玫瑰  一起玩  上车   娱乐  快乐  游戏    一起  车位  主播  订阅  小姐姐  上分  新主播   \n",
       "1    一起玩    王者    峡谷   教学  克隆   一区  黑色  上单    第一  大师  钻石  灵活   专场  英雄   云顶   \n",
       "2  一颗小虎牙  欢迎来到    上分  大乱斗  黄金  直播间  虎牙  排位  艾欧尼亚  玩玩  订阅  直播   辅助  下饭   白银   \n",
       "\n",
       "     15  16  17  18  19  \n",
       "0    欢迎  免费  妹妹  灵活  无聊  \n",
       "1  峡谷之巅  车位  一天  联盟  打野  \n",
       "2    福星  单排  今天  免费  铂金  "
      ]
     },
     "execution_count": 95,
     "metadata": {},
     "output_type": "execute_result"
    }
   ],
   "source": [
    "num_topic = 3\n",
    "lda = models.LdaModel.load('lda_model_公告\\lda_topic%s.model'%num_topic)  # 读取提前存储的模型\n",
    "\n",
    "# lda.print_topics(num_words)：获取每个主题前`num_words`个重要的单词\n",
    "topic_list = lda.print_topics(num_words=20)\n",
    "\n",
    "# 整理成dataframe结构，方便查看\n",
    "pd.DataFrame([re.findall('\"(.*?)\"', t[1]) for t in topic_list])"
   ]
  },
  {
   "cell_type": "markdown",
   "metadata": {},
   "source": [
    "##### **第七步：打印出dataframe中各个直播间标题所属主题的概率。**  "
   ]
  },
  {
   "cell_type": "code",
   "execution_count": 96,
   "metadata": {},
   "outputs": [
    {
     "data": {
      "text/plain": [
       "0    [(0, 0.058559127), (1, 0.06457531), (2, 0.8768...\n",
       "1    [(0, 0.05768914), (1, 0.06327685), (2, 0.879034)]\n",
       "2    [(0, 0.17850013), (1, 0.50839555), (2, 0.31310...\n",
       "Name: 公告词袋, dtype: object"
      ]
     },
     "execution_count": 96,
     "metadata": {},
     "output_type": "execute_result"
    }
   ],
   "source": [
    "lda_result = pht.公告词袋.apply(lambda x: lda.get_document_topics(dictionary.doc2bow(x)))\n",
    "lda_result[:3]     # 主题0——概率0.8， 主题1——概率0.08，主题2——概率0.08"
   ]
  },
  {
   "cell_type": "code",
   "execution_count": 97,
   "metadata": {},
   "outputs": [
    {
     "data": {
      "text/html": [
       "<div>\n",
       "<style scoped>\n",
       "    .dataframe tbody tr th:only-of-type {\n",
       "        vertical-align: middle;\n",
       "    }\n",
       "\n",
       "    .dataframe tbody tr th {\n",
       "        vertical-align: top;\n",
       "    }\n",
       "\n",
       "    .dataframe thead th {\n",
       "        text-align: right;\n",
       "    }\n",
       "</style>\n",
       "<table border=\"1\" class=\"dataframe\">\n",
       "  <thead>\n",
       "    <tr style=\"text-align: right;\">\n",
       "      <th></th>\n",
       "      <th>用户id</th>\n",
       "      <th>直播标题</th>\n",
       "      <th>直播标题词袋</th>\n",
       "      <th>直播Topic1</th>\n",
       "      <th>直播Topic2</th>\n",
       "      <th>直播标题主题</th>\n",
       "      <th>直播标题主题概率</th>\n",
       "      <th>公告</th>\n",
       "      <th>公告词袋</th>\n",
       "      <th>公告Topic1</th>\n",
       "      <th>公告Topic2</th>\n",
       "      <th>公告Topic3</th>\n",
       "    </tr>\n",
       "  </thead>\n",
       "  <tbody>\n",
       "    <tr>\n",
       "      <td>0</td>\n",
       "      <td>1820796294</td>\n",
       "      <td>打把大号维护局！</td>\n",
       "      <td>[打, 大号, 维护]</td>\n",
       "      <td>0.191919</td>\n",
       "      <td>0.808081</td>\n",
       "      <td>2</td>\n",
       "      <td>0.808081</td>\n",
       "      <td>直播时间晚上9点播到凌晨4点</td>\n",
       "      <td>[直播, 时间, 晚上, 点播, 到, 凌晨, 点]</td>\n",
       "      <td>0.058559</td>\n",
       "      <td>0.064575</td>\n",
       "      <td>0.876866</td>\n",
       "    </tr>\n",
       "    <tr>\n",
       "      <td>1</td>\n",
       "      <td>2183525275</td>\n",
       "      <td>韩服乱杀职业选手</td>\n",
       "      <td>[韩服, 乱杀, 职业, 选手]</td>\n",
       "      <td>0.100791</td>\n",
       "      <td>0.899209</td>\n",
       "      <td>2</td>\n",
       "      <td>0.899209</td>\n",
       "      <td>粉丝群：864936115  直播时间 晚上8点-2点</td>\n",
       "      <td>[粉丝, 直播, 时间, 晚上, 点点]</td>\n",
       "      <td>0.057689</td>\n",
       "      <td>0.063277</td>\n",
       "      <td>0.879034</td>\n",
       "    </tr>\n",
       "  </tbody>\n",
       "</table>\n",
       "</div>"
      ],
      "text/plain": [
       "         用户id      直播标题            直播标题词袋  直播Topic1  直播Topic2 直播标题主题  \\\n",
       "0  1820796294  打把大号维护局！       [打, 大号, 维护]  0.191919  0.808081      2   \n",
       "1  2183525275  韩服乱杀职业选手  [韩服, 乱杀, 职业, 选手]  0.100791  0.899209      2   \n",
       "\n",
       "   直播标题主题概率                           公告                        公告词袋  \\\n",
       "0  0.808081               直播时间晚上9点播到凌晨4点  [直播, 时间, 晚上, 点播, 到, 凌晨, 点]   \n",
       "1  0.899209  粉丝群：864936115  直播时间 晚上8点-2点        [粉丝, 直播, 时间, 晚上, 点点]   \n",
       "\n",
       "   公告Topic1  公告Topic2  公告Topic3  \n",
       "0  0.058559  0.064575  0.876866  \n",
       "1  0.057689  0.063277  0.879034  "
      ]
     },
     "execution_count": 97,
     "metadata": {},
     "output_type": "execute_result"
    }
   ],
   "source": [
    "# 将Series转化为[{}, {}, ...{}]格式，以便转为dataframe格式——Topics，然后与pht表合并\n",
    "lda_result_data = lda_result.map(dict).to_list()\n",
    "\n",
    "Topics = pd.DataFrame(lda_result_data)\n",
    "Topics.columns = ['公告Topic%s'%i for i in range(1, num_topic+1)]\n",
    "pht = pd.concat((pht, Topics), axis=1, join='inner')\n",
    "pht.head(2)"
   ]
  },
  {
   "cell_type": "code",
   "execution_count": 98,
   "metadata": {},
   "outputs": [
    {
     "name": "stderr",
     "output_type": "stream",
     "text": [
      "D:\\software\\Anaconda3\\lib\\site-packages\\ipykernel_launcher.py:2: FutureWarning: \n",
      "The current behaviour of 'Series.argmax' is deprecated, use 'idxmax'\n",
      "instead.\n",
      "The behavior of 'argmax' will be corrected to return the positional\n",
      "maximum in the future. For now, use 'series.values.argmax' or\n",
      "'np.argmax(np.array(values))' to get the position of the maximum\n",
      "row.\n",
      "  \n"
     ]
    },
    {
     "data": {
      "text/plain": [
       "1    6225\n",
       "3    3037\n",
       "2    1699\n",
       "Name: 公告主题, dtype: int64"
      ]
     },
     "execution_count": 98,
     "metadata": {},
     "output_type": "execute_result"
    }
   ],
   "source": [
    "# pht['Topic']   公告间标题的主题\n",
    "pht['公告主题'] = pht[['公告Topic%s'%i for i in range(1, num_topic+1)]].apply(lambda x: x.argmax()[-1], axis=1)\n",
    "pht['公告主题概率'] = pht[['公告Topic%s'%i for i in range(1, num_topic+1)]].max(axis=1)\n",
    "pht.公告主题.value_counts()"
   ]
  },
  {
   "cell_type": "code",
   "execution_count": 99,
   "metadata": {},
   "outputs": [
    {
     "name": "stdout",
     "output_type": "stream",
     "text": [
      "——————Topic1——————\n"
     ]
    },
    {
     "data": {
      "text/plain": [
       "8343                      欢迎来到辣妈兔妞娱乐间。游戏而已，开心就好。娱乐开播，开心就好~\n",
       "6661                          每天晚上八点半开始玩，有兴趣的一起来组队，一起开心的玩耍\n",
       "1591            欢迎来到叶郡直播间，主播QQ：1478197837，感兴趣的可以加一下，线下一起玩。\n",
       "3429                             欢迎来到直播间.寻觅一起游戏的好友！希望给一个订阅\n",
       "9388                                欢迎来到小熊的直播间~新人主播关注订阅点一点\n",
       "5831     欢迎来到直播间 点个订阅不迷路\\n进开黑交流群一起玩973870606\\n白菜价pw 160...\n",
       "959                         娱乐主播，订阅有位置可以上车，订阅加游戏id.内涵TV丶丨令\n",
       "4913                 欢迎来到AK的直播间，觉得主播菜的可以关注主播，觉得主播能C的，请举报主播\n",
       "5205                              欢迎来到直播间。有兴趣的可以点上关住，。一起娱乐\n",
       "2655                       欢迎来到听夜声的直播间，每晚11点到天明，我们一起成为守夜人！\n",
       "7098                                  每晚7点指11点准时开播 欢迎各位来捧场\n",
       "4703                                   欢迎来到 一位失去斗志的网友 的直播间\n",
       "10403                                  欢迎来到 金角大王的游戏人生 的直播间\n",
       "62                                每晚7-8点到晚上1-2点开播.主打相位贾克斯.\n",
       "5467                             欢迎来到小月的直播间，新人主播啥游戏都玩，求订阅。\n",
       "9090                      觉得主播可以的关注一下主播，新主播，开黑交流群931129221\n",
       "5764                主播是位大美女，我是主播的助手！\\n两个人打游戏那就不叫打游戏了，那叫约会~\n",
       "5635                欢迎来到小五闪现蛮王的直播间。QQ交流群543594631，有需求的可以加我\n",
       "2816                                    欢迎来到 巨人传媒招收主播 的直播间\n",
       "7853              一切都是命，遇到了是命，遇不到也是命。遇到了擦肩而过是命，遇到了天各一方也是命。\n",
       "Name: 公告, dtype: object"
      ]
     },
     "metadata": {},
     "output_type": "display_data"
    },
    {
     "name": "stdout",
     "output_type": "stream",
     "text": [
      "——————Topic2——————\n"
     ]
    },
    {
     "data": {
      "text/plain": [
       "292      全网最强俄洛伊教学\\nS7三个区的王者保持者\\nS9峡谷宗师保持者，峡谷最高分\\n峡谷之巅英...\n",
       "4037     3w场卡莉丝塔人柱力5赛季网通王者3赛季千分网通第一滑板鞋\\n秒爆技巧最强使用者，教学业务群...\n",
       "2233     峡谷一区双王者，直播时间00.00到7：00 5。粉丝徽章福利10级帮过晋级赛14级牌子包上...\n",
       "2075     直播时间：每天中午12点到下午5点，晚上10点到半夜1点。主玩泽拉斯，冰鸟，细节拉满，长年王者选手\n",
       "276      主播VX：DJX19196800 陪玩包天备注来意 峡谷第一俄洛伊S10峡谷三王者 最高11...\n",
       "6339     千场菜鸭烬！\\n都说人生如场戏，指尖把玩令珍惜。\\n枪落花开谁哭泣，万里狙击无人敌。  （死...\n",
       "10699    新主播求照顾  主播 绝地求生 英雄联盟 云顶之弈\\n直播时间21:00-02:00 感谢相...\n",
       "8151     直播时间每天19-22:00，直播内容：云顶、峡谷（主玩上单），平时多在战争学院。抖音搜索：...\n",
       "4644             四岁时不小心被开水烫伤了喉咙，希望小哥哥们见谅，你们说的话我会用最短时间打字回复。\n",
       "3594        全能王者 每天直播时间晚上12点到早上8点 另外收两个徒弟 两本魔法书包去峡谷资格 先到先得\n",
       "3831        永久车位的家人们记得保牌子哦~牌子没有了永久车位就没有了哦\\n直播时间：中午12点-凌晨12\n",
       "9053                    主玩打野的小萌妹，求关注，每天下午直播，主玩黑色，电一，来一起玩哦。\n",
       "77       浙江温州人。招主播加BTM961  三月直播时间早也播晚也播 皮皮虾：玻璃心少女  抖音：h...\n",
       "5917     直播时间下午1-2点开始，绝食流打野带你领略不一样的野区玩法。我将为嘉文四世证明，这英雄一样...\n",
       "6098     每天在线直播  下午1：00-5：00\\n魔法书＋vx＋30天房管\\n永久房管钞票枪，直奔声...\n",
       "480      峡谷宗师.韩服大师. . 每天8点--早上8点直播 期待与你每天不见不散 需要上号加主播Q5...\n",
       "9697     主播VX；lbxz123m  10级牌子直播打号 14级牌子包钻石 20级牌子包大师 接pw...\n",
       "3898               新人主播，直播时间12点云顶，晚上随机单机，关注微博：Loo宗驰，正常周一休息\n",
       "1821                    湖北小哥哥 .周一至周五直播时间07.00 .其他时间周六周日不规定\n",
       "4636     购买正宗白毫银针（出厂价）或主播打号 V  a617189350\\n想找 王者陪玩+代练也可...\n",
       "Name: 公告, dtype: object"
      ]
     },
     "metadata": {},
     "output_type": "display_data"
    },
    {
     "name": "stdout",
     "output_type": "stream",
     "text": [
      "——————Topic3——————\n"
     ]
    },
    {
     "data": {
      "text/plain": [
       "4627     感谢大家观看星豹的直播，没课的时候直播时间大概是早上十点到晚上8点左右，粉丝群: 61296...\n",
       "9690     蛤蟆本是痴情种，敢为红颜惹恶人，此去瑶池求灵药，愿用蛙命换鹅生，奈何天鹅伤好时，终究还是念旧...\n",
       "3875                  直播时间早10点到不确定！喜欢主播的帮主播点点订阅，谢谢大家的支持~~~\n",
       "240            直播时间晚上七点多点到凌晨四五点。粉丝群570851663，直播不易，谢谢大家多多支持\n",
       "7624     直播时间每天12-17  日常播绝地求生,偶尔LOL 主播游戏直播 关注加订阅QQ粉丝群：1...\n",
       "987      励志成为我的世界最沙雕主播，感谢订阅！粉丝群: 528505922，真爱粉马甲格式：战强出征...\n",
       "4743     直播时间：上午9点到12点和平精英模拟，午饭后神力科莎，之后LOL大乱斗，年纪大了（37）反...\n",
       "10710       每天直播，直播的游戏看心情.会玩绝地求生，使命召唤，穿越火线，逆战，LOL，糖豆人.csgo\n",
       "3045     不靠这份职业谋生，而你刷礼物我却不会阻拦，毕竟都是支持与鼓励！感谢平台！感谢所有的人和事，感...\n",
       "8388               主播网二，水平一般不喜勿喷。直播纯粹为了娱乐快乐。喜欢的话点点订阅关注~笔芯心\n",
       "470      1级牌牌可以进扣扣群哦~群号：1001715302\\n带马甲十二级牌牌报销改名卡  马甲格式...\n",
       "6085     有人疼爱才显得多么出众！真爱粉改下马甲 马甲格式傲娇小宝贝的XX。10级牌牌可报销改名费  ...\n",
       "6289     主播精通各种AD，辅助 打野\\n主播粉丝群：369423053\\n有想配置电脑，加固态内存的...\n",
       "8190                     直播时间为晚上10点到凌晨一点，白天随缘，纯粹娱乐型主播，求订阅！\n",
       "197      我就像一根甘蔗 不会拐弯抹角 容易得罪人 但我还是喜欢这样的自己 不虚伪 不算计 我的脾气赶...\n",
       "63       直播时间晚上7~2点谢谢你们一直喜欢我👉打开\\n微博：九引妹妹\\nQ群：713987610\\...\n",
       "9966        杂食玩家 一般来说晚上8:00开始直播 但有可能白天也会来 觉得菜的点个关注 给你VIP喷位\n",
       "1644     关注达头QQ群:231593921符\\赋及出装对线技巧微博：虎牙直播达头 Y群1489586...\n",
       "392      老弟 不定时直播  也还没有群聊贡大家聊sao 可加老弟wx ：kangfu98 就可知晓老...\n",
       "5687     直播时间睡醒到世界毁灭   新浪微博：晨酱qwq    粉丝群：589455004 直播在群里公告\n",
       "Name: 公告, dtype: object"
      ]
     },
     "metadata": {},
     "output_type": "display_data"
    }
   ],
   "source": [
    "a = pht.sort_values('公告主题概率', ascending=False)\n",
    "for i in range(1, num_topic+1):\n",
    "    print('——————Topic%s——————'%i)\n",
    "    display(a[a.公告主题==str(i)].公告.head(20))"
   ]
  },
  {
   "cell_type": "markdown",
   "metadata": {},
   "source": [
    "# 1. 这次公告主题不太美丽，区分性不强。考虑要不要加入公告主题。或者用以前的方法试试公告主题。 2. 给直播标题主题命名。3. 绘制词云图并进行分析。"
   ]
  },
  {
   "cell_type": "code",
   "execution_count": null,
   "metadata": {},
   "outputs": [],
   "source": []
  },
  {
   "cell_type": "code",
   "execution_count": null,
   "metadata": {},
   "outputs": [],
   "source": []
  }
 ],
 "metadata": {
  "kernelspec": {
   "display_name": "Python 3.7",
   "language": "python",
   "name": "python3"
  },
  "language_info": {
   "codemirror_mode": {
    "name": "ipython",
    "version": 3
   },
   "file_extension": ".py",
   "mimetype": "text/x-python",
   "name": "python",
   "nbconvert_exporter": "python",
   "pygments_lexer": "ipython3",
   "version": "3.7.4"
  },
  "toc": {
   "base_numbering": 1,
   "nav_menu": {},
   "number_sections": true,
   "sideBar": true,
   "skip_h1_title": false,
   "title_cell": "Table of Contents",
   "title_sidebar": "Contents",
   "toc_cell": false,
   "toc_position": {},
   "toc_section_display": true,
   "toc_window_display": false
  }
 },
 "nbformat": 4,
 "nbformat_minor": 2
}
